{
 "cells": [
  {
   "cell_type": "markdown",
   "metadata": {},
   "source": [
    "## **Introduction to coding in Python**"
   ]
  },
  {
   "cell_type": "markdown",
   "metadata": {},
   "source": [
    "**Welcome to your first Jupyter notebook!**<br><br>\n",
    "In this notebook, we will explore the basics of Python, how to use it, its syntax, and its function. We will go over the concept of a variable, the different data types and libraries that contain chunks of pre-written code that perform various functions. These tools allow us to solve mathematical equations, analyze neural data and understand concepts of cellular neuroscience. \n",
    "<br><br>\n",
    "After completing this notebook, you'll be able to:\n",
    "\n",
    "- Recognize the main features of Jupyter notebooks\n",
    "- Recognize the difference between \"Markdown\" and \"Code\" cells \n",
    "- Use Jupyter Notebooks to edit and run Python COde \n",
    "- Be familiar with the following vocab: *Variable, String, Integer, Float, List, Library, Function* \n",
    "- Use Python code to calculate the mean and standard deviation of a list of numbers\n"
   ]
  },
  {
   "cell_type": "markdown",
   "metadata": {},
   "source": [
    "### Part 1: **About Jupyter Notebooks**"
   ]
  },
  {
   "cell_type": "markdown",
   "metadata": {},
   "source": [
    "As you can see, Jupyter Notebooks are run in a web browser – you don’t need to install anything! These notebooks provide a handy coding environment for learning and interacting with code in Python. <br><br>\n",
    "**Types of Cells** <br><br>\n",
    "Jupyter notebooks combine multiple types of elements, or \"cells\" into a single document:\n",
    "\n",
    "- Chunks of regular text are referred to as \"**markdown**\" cells. You are currently reading a markdown cell! \n",
    "- Chunks containing Python code are referred to as \"**Code**\" cells. The *output* of Python code is what results from \"running\" a chunk of code. When running a cell of code, the output will display directly underneath.\n",
    "\n",
    "<br><br>\n",
    "Most of the time you won't need to run the Markdown cells, just read through them. However, when we get to a code cell, you need to tell Jupyter to run the lines of code that it contains. \n",
    "<br><br> \n",
    "To run a code cell, hover your cursor over the cell, and select the \"play\" button that appears in the top right corner. \n",
    "<br><br>\n",
    "\n",
    "**Task**: Run the cell below! What was the output?"
   ]
  },
  {
   "cell_type": "code",
   "execution_count": null,
   "metadata": {},
   "outputs": [],
   "source": [
    "# In Python, anything with a \"#\" in front of it is code annotation and is not read by the computer \n",
    "# This print function below allows us to generate a message. \n",
    "print('Nice Work!')"
   ]
  },
  {
   "cell_type": "markdown",
   "metadata": {},
   "source": [
    "To get a quick tour of the Jupyter user-interface, click on the 'Help' menu, then click 'User Interface Tour'. There are also a large number of useful keyboard shortcuts. Click on the 'Help' menu, and then 'Keyboard Shortcuts' to see a list."
   ]
  },
  {
   "cell_type": "markdown",
   "metadata": {},
   "source": [
    "### Part 2: **Basic Python Syntax**"
   ]
  },
  {
   "cell_type": "markdown",
   "metadata": {},
   "source": [
    "Like any language, Python follows a set of rules, known as the language **syntax**. Below, we'll see how to write expressions in Python, create varaibles, and then manipulate those variables. "
   ]
  },
  {
   "cell_type": "markdown",
   "metadata": {},
   "source": [
    "**Python Expressions**\n",
    "<br><br>\n",
    "We can perform various arithmetic operations in Python: \n",
    "\n",
    "| Symbol | Operation | Usage |\n",
    "| --- | --- | --- | \n",
    "| + | Addition | 10 + 2 |\n",
    "| - | Subtraction | 10 - 2 | \n",
    "| * | Multiplcation | 10 * 2 | \n",
    "| / | Division | 10 / 2 | \n",
    "| ** | Exponent | 10 ** 2 | \n",
    "| % | Modulo | 10 % 2 |\n",
    "\n",
    "<br>\n",
    "Note that the default order of operations is the same as in mathematics! (PEMDAS)\n",
    "\n",
    "\n",
    "**Task**: Try each of the operators above. Before using the modulo operator, predict what it will output, and make sure it produces what you expect."
   ]
  },
  {
   "cell_type": "code",
   "execution_count": null,
   "metadata": {},
   "outputs": [],
   "source": [
    "# Let's play with numbers! \n",
    "\n",
    "# If you want an example, run this first\n",
    "# 10 + 2\n",
    "# After pressing the play button it should say \"12\" "
   ]
  },
  {
   "cell_type": "markdown",
   "metadata": {},
   "source": [
    "**Variables** \n",
    "<br>\n",
    "\n",
    "Variables enable us to store a value and come back to it later. THey are defined with *name = value*. Unlike mathematics, the \"=\" does not mean equality. Rather, it means taht we are assigning a variable to some value. \n",
    "\n",
    "\n",
    "**Task**: Let's practice working with variables! First, create two variables: a & b. Then, use an expression that combines a and b, and assign this to c. In the end, c should be equal to 6. \n"
   ]
  },
  {
   "cell_type": "code",
   "execution_count": null,
   "metadata": {},
   "outputs": [],
   "source": [
    "# Let's save a few integers and then manipulate them."
   ]
  },
  {
   "cell_type": "markdown",
   "metadata": {},
   "source": [
    "Note: Most code cells with not give you an output unless you ask for it (press the play button). You can use print() to output a variable or string. However, cells that only contain one variable will print its value\n",
    "\n",
    "TODO: wait for Narayan's response since wording is kind of tricky"
   ]
  },
  {
   "cell_type": "markdown",
   "metadata": {},
   "source": [
    "**Types of Variables** \n",
    "\n",
    "Variables can be different types. Below are a few of the most common types: \n",
    "\n",
    "- Integers (int) \n",
    "- String (str): letters, numbers, symbols, spaces \n",
    "- Float (float): any number with a decimal point (floating point number) \n",
    "\n",
    "You can check what type your variable is by using \n",
    "```python\n",
    "type(variable)\n",
    "```\n",
    "Hint: Jupyter will only show you the output of the last line of code that you run. Thankfully, you can wrap commands in other commands. For example, we could write print(type(a)), if we want to see the output of type(a). \n",
    "\n",
    "**Task**: In the cell below, check the type of your variable c."
   ]
  },
  {
   "cell_type": "code",
   "execution_count": null,
   "metadata": {},
   "outputs": [],
   "source": [
    "# Check the type of c here"
   ]
  },
  {
   "cell_type": "markdown",
   "metadata": {},
   "source": [
    "Different operators in Python will produce different types of variables. \n",
    "<br>\n",
    "\n",
    "**Task**: Go back to the code cell where you defined variables a and b. Change the value of a so that it is no longer an integer (i.e., it is no longer a whole number). What type of variable if c now? Check your answer by re-running the code cell directly above. "
   ]
  },
  {
   "cell_type": "markdown",
   "metadata": {},
   "source": [
    "### Part 3: **Using Functions to calculate the mean and standard deviation.**"
   ]
  },
  {
   "cell_type": "markdown",
   "metadata": {},
   "source": [
    "We can use Python to calculate some basic statistics, like the mean and standard deviation of a given set of data. One way to do this is to use the arithmetic expressions that you learnt above to manually calculate the average using the formula you already learnt in class. \n",
    "\n",
    "**Task**: Run the code below to find the average of the list of numbers [1,2,3,4]."
   ]
  },
  {
   "cell_type": "code",
   "execution_count": null,
   "metadata": {},
   "outputs": [],
   "source": [
    "# Let's find the average of a list of 4 numbers \n",
    "a = (1 + 2 + 3 + 4) / 4\n",
    "a"
   ]
  },
  {
   "cell_type": "markdown",
   "metadata": {},
   "source": [
    "But imagine if we had a really long list (e.g. 200 numbers). Manually adding using the “+” expression would be annoying! In Python, we can use functions – pre-written chunks of code that perform some task, like summing together a list of numbers. All we need to do is call that function in our code!\n",
    "<br><br>\n",
    "In order to access these functions, we have to import a library. As an analogy, consider the purpose of a library in real life. Libraries are places you go to to read information discovered by other individuals already to avoid doing a lifetime of work yourself. That is how to view libraries in Python. Libraries are pre-written chunks of code–made by other great programmers–which can be pulled into our current notebook to make writing new code more efficient. It’s important to implement certain libraries if they contain functions and methods to make your job easier. If code already exists, use it. \n",
    "<br><br>\n",
    "Below, we will import a common Python library that contains a bunch of functions for doing math. The library is called \"numPy\". \n",
    "<br><br>\n",
    "Run this cell:"
   ]
  },
  {
   "cell_type": "code",
   "execution_count": null,
   "metadata": {},
   "outputs": [],
   "source": [
    "import numpy \n",
    "print('Imported numpy!')"
   ]
  },
  {
   "cell_type": "markdown",
   "metadata": {},
   "source": [
    "Now, let's recalculate the average of our list of four numbers, but using the helpful functions of numpy! Instead of manually adding the numbers, we can use the numpy function \"sum\". "
   ]
  },
  {
   "cell_type": "code",
   "execution_count": null,
   "metadata": {},
   "outputs": [],
   "source": [
    "# Assign the list to a variable called \"our_list\"\n",
    "our_list = [1, 2, 3, 4]\n",
    "a = numpy.sum(our_list) / 4\n",
    "a"
   ]
  },
  {
   "cell_type": "markdown",
   "metadata": {},
   "source": [
    "An even more efficient way would be to directly calculate the mean, using the numpy function \"mean\""
   ]
  },
  {
   "cell_type": "code",
   "execution_count": null,
   "metadata": {},
   "outputs": [],
   "source": [
    "# Assign the list to a variable called \"our_list\"\n",
    "a = numpy.mean(our_list)\n",
    "a"
   ]
  },
  {
   "cell_type": "markdown",
   "metadata": {},
   "source": [
    "Now, even if our list of numbers is a million items, we can easily and efficiently find the average! We can similarly find the standard deviation using the numpy function \"std\": "
   ]
  },
  {
   "cell_type": "code",
   "execution_count": null,
   "metadata": {},
   "outputs": [],
   "source": [
    "# Assign the list to a variable called \"our_list\" \n",
    "a = numpy.std(our_list)\n",
    "a"
   ]
  },
  {
   "cell_type": "markdown",
   "metadata": {},
   "source": [
    "Note: If you ever need help using a function, you can enter the function followed by a question mark. For example, numpy.mean?. When you do this, Python will provide you with a helpful description of what the function does and the syntax necessary to use it!"
   ]
  },
  {
   "cell_type": "code",
   "execution_count": 20,
   "metadata": {},
   "outputs": [
    {
     "data": {
      "text/plain": [
       "2.5"
      ]
     },
     "execution_count": 20,
     "metadata": {},
     "output_type": "execute_result"
    },
    {
     "name": "stdout",
     "output_type": "stream",
     "text": [
      "\u001b[1;31mSignature:\u001b[0m      \n",
      "\u001b[0mnumpy\u001b[0m\u001b[1;33m.\u001b[0m\u001b[0mmean\u001b[0m\u001b[1;33m(\u001b[0m\u001b[1;33m\n",
      "\u001b[0m    \u001b[0ma\u001b[0m\u001b[1;33m,\u001b[0m\u001b[1;33m\n",
      "\u001b[0m    \u001b[0maxis\u001b[0m\u001b[1;33m=\u001b[0m\u001b[1;32mNone\u001b[0m\u001b[1;33m,\u001b[0m\u001b[1;33m\n",
      "\u001b[0m    \u001b[0mdtype\u001b[0m\u001b[1;33m=\u001b[0m\u001b[1;32mNone\u001b[0m\u001b[1;33m,\u001b[0m\u001b[1;33m\n",
      "\u001b[0m    \u001b[0mout\u001b[0m\u001b[1;33m=\u001b[0m\u001b[1;32mNone\u001b[0m\u001b[1;33m,\u001b[0m\u001b[1;33m\n",
      "\u001b[0m    \u001b[0mkeepdims\u001b[0m\u001b[1;33m=\u001b[0m\u001b[1;33m<\u001b[0m\u001b[0mno\u001b[0m \u001b[0mvalue\u001b[0m\u001b[1;33m>\u001b[0m\u001b[1;33m,\u001b[0m\u001b[1;33m\n",
      "\u001b[0m    \u001b[1;33m*\u001b[0m\u001b[1;33m,\u001b[0m\u001b[1;33m\n",
      "\u001b[0m    \u001b[0mwhere\u001b[0m\u001b[1;33m=\u001b[0m\u001b[1;33m<\u001b[0m\u001b[0mno\u001b[0m \u001b[0mvalue\u001b[0m\u001b[1;33m>\u001b[0m\u001b[1;33m,\u001b[0m\u001b[1;33m\n",
      "\u001b[0m\u001b[1;33m)\u001b[0m\u001b[1;33m\u001b[0m\u001b[1;33m\u001b[0m\u001b[0m\n",
      "\u001b[1;31mCall signature:\u001b[0m  \u001b[0mnumpy\u001b[0m\u001b[1;33m.\u001b[0m\u001b[0mmean\u001b[0m\u001b[1;33m(\u001b[0m\u001b[1;33m*\u001b[0m\u001b[0margs\u001b[0m\u001b[1;33m,\u001b[0m \u001b[1;33m**\u001b[0m\u001b[0mkwargs\u001b[0m\u001b[1;33m)\u001b[0m\u001b[1;33m\u001b[0m\u001b[1;33m\u001b[0m\u001b[0m\n",
      "\u001b[1;31mType:\u001b[0m            _ArrayFunctionDispatcher\n",
      "\u001b[1;31mString form:\u001b[0m     <function mean at 0x000001FDB973C220>\n",
      "\u001b[1;31mFile:\u001b[0m            c:\\users\\go7jo\\appdata\\local\\programs\\python\\python311\\lib\\site-packages\\numpy\\core\\fromnumeric.py\n",
      "\u001b[1;31mDocstring:\u001b[0m      \n",
      "Compute the arithmetic mean along the specified axis.\n",
      "\n",
      "Returns the average of the array elements.  The average is taken over\n",
      "the flattened array by default, otherwise over the specified axis.\n",
      "`float64` intermediate and return values are used for integer inputs.\n",
      "\n",
      "Parameters\n",
      "----------\n",
      "a : array_like\n",
      "    Array containing numbers whose mean is desired. If `a` is not an\n",
      "    array, a conversion is attempted.\n",
      "axis : None or int or tuple of ints, optional\n",
      "    Axis or axes along which the means are computed. The default is to\n",
      "    compute the mean of the flattened array.\n",
      "\n",
      "    .. versionadded:: 1.7.0\n",
      "\n",
      "    If this is a tuple of ints, a mean is performed over multiple axes,\n",
      "    instead of a single axis or all the axes as before.\n",
      "dtype : data-type, optional\n",
      "    Type to use in computing the mean.  For integer inputs, the default\n",
      "    is `float64`; for floating point inputs, it is the same as the\n",
      "    input dtype.\n",
      "out : ndarray, optional\n",
      "    Alternate output array in which to place the result.  The default\n",
      "    is ``None``; if provided, it must have the same shape as the\n",
      "    expected output, but the type will be cast if necessary.\n",
      "    See :ref:`ufuncs-output-type` for more details.\n",
      "\n",
      "keepdims : bool, optional\n",
      "    If this is set to True, the axes which are reduced are left\n",
      "    in the result as dimensions with size one. With this option,\n",
      "    the result will broadcast correctly against the input array.\n",
      "\n",
      "    If the default value is passed, then `keepdims` will not be\n",
      "    passed through to the `mean` method of sub-classes of\n",
      "    `ndarray`, however any non-default value will be.  If the\n",
      "    sub-class' method does not implement `keepdims` any\n",
      "    exceptions will be raised.\n",
      "\n",
      "where : array_like of bool, optional\n",
      "    Elements to include in the mean. See `~numpy.ufunc.reduce` for details.\n",
      "\n",
      "    .. versionadded:: 1.20.0\n",
      "\n",
      "Returns\n",
      "-------\n",
      "m : ndarray, see dtype parameter above\n",
      "    If `out=None`, returns a new array containing the mean values,\n",
      "    otherwise a reference to the output array is returned.\n",
      "\n",
      "See Also\n",
      "--------\n",
      "average : Weighted average\n",
      "std, var, nanmean, nanstd, nanvar\n",
      "\n",
      "Notes\n",
      "-----\n",
      "The arithmetic mean is the sum of the elements along the axis divided\n",
      "by the number of elements.\n",
      "\n",
      "Note that for floating-point input, the mean is computed using the\n",
      "same precision the input has.  Depending on the input data, this can\n",
      "cause the results to be inaccurate, especially for `float32` (see\n",
      "example below).  Specifying a higher-precision accumulator using the\n",
      "`dtype` keyword can alleviate this issue.\n",
      "\n",
      "By default, `float16` results are computed using `float32` intermediates\n",
      "for extra precision.\n",
      "\n",
      "Examples\n",
      "--------\n",
      ">>> a = np.array([[1, 2], [3, 4]])\n",
      ">>> np.mean(a)\n",
      "2.5\n",
      ">>> np.mean(a, axis=0)\n",
      "array([2., 3.])\n",
      ">>> np.mean(a, axis=1)\n",
      "array([1.5, 3.5])\n",
      "\n",
      "In single precision, `mean` can be inaccurate:\n",
      "\n",
      ">>> a = np.zeros((2, 512*512), dtype=np.float32)\n",
      ">>> a[0, :] = 1.0\n",
      ">>> a[1, :] = 0.1\n",
      ">>> np.mean(a)\n",
      "0.54999924\n",
      "\n",
      "Computing the mean in float64 is more accurate:\n",
      "\n",
      ">>> np.mean(a, dtype=np.float64)\n",
      "0.55000000074505806 # may vary\n",
      "\n",
      "Specifying a where argument:\n",
      "\n",
      ">>> a = np.array([[5, 9, 13], [14, 10, 12], [11, 15, 19]])\n",
      ">>> np.mean(a)\n",
      "12.0\n",
      ">>> np.mean(a, where=[[True], [False], [False]])\n",
      "9.0\n",
      "\u001b[1;31mClass docstring:\u001b[0m\n",
      "Class to wrap functions with checks for __array_function__ overrides.\n",
      "\n",
      "All arguments are required, and can only be passed by position.\n",
      "\n",
      "Parameters\n",
      "----------\n",
      "dispatcher : function or None\n",
      "    The dispatcher function that returns a single sequence-like object\n",
      "    of all arguments relevant.  It must have the same signature (except\n",
      "    the default values) as the actual implementation.\n",
      "    If ``None``, this is a ``like=`` dispatcher and the\n",
      "    ``_ArrayFunctionDispatcher`` must be called with ``like`` as the\n",
      "    first (additional and positional) argument.\n",
      "implementation : function\n",
      "    Function that implements the operation on NumPy arrays without\n",
      "    overrides.  Arguments passed calling the ``_ArrayFunctionDispatcher``\n",
      "    will be forwarded to this (and the ``dispatcher``) as if using\n",
      "    ``*args, **kwargs``.\n",
      "\n",
      "Attributes\n",
      "----------\n",
      "_implementation : function\n",
      "    The original implementation passed in."
     ]
    }
   ],
   "source": [
    "numpy.mean?\n",
    "\n",
    "numpy.mean(our_list)"
   ]
  }
 ],
 "metadata": {
  "kernelspec": {
   "display_name": "Python 3",
   "language": "python",
   "name": "python3"
  },
  "language_info": {
   "codemirror_mode": {
    "name": "ipython",
    "version": 3
   },
   "file_extension": ".py",
   "mimetype": "text/x-python",
   "name": "python",
   "nbconvert_exporter": "python",
   "pygments_lexer": "ipython3",
   "version": "3.11.0"
  }
 },
 "nbformat": 4,
 "nbformat_minor": 2
}
