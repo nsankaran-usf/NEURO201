{
 "cells": [
  {
   "cell_type": "markdown",
   "metadata": {},
   "source": [
    "## **Introduction to coding in Python**"
   ]
  },
  {
   "cell_type": "markdown",
   "metadata": {},
   "source": [
    "**Welcome to your first Jupyter notebook!**<br><br>\n",
    "In this notebook, we will explore the basics of Python, how to use it, its syntax, and its function. We will go over the concept of a variable, the different data types and libraries that contain chunks of pre-written code that perform various functions. These tools allow us to solve mathematical equations, analyze neural data and understand concepts of cellular neuroscience. \n",
    "<br><br>\n",
    "After completing this notebook, you'll be able to:\n",
    "\n",
    "- Recognize the main features of Jupyter notebooks\n",
    "- Recognize the difference between \"Markdown\" and \"Code\" cells \n",
    "- Use Jupyter Notebooks to edit and run Python COde \n",
    "- Be familiar with the following vocab: *Variable, String, Integer, Float, List, Library, Function* \n",
    "- Use Python code to calculate the mean and standard deviation of a list of numbers\n"
   ]
  },
  {
   "cell_type": "markdown",
   "metadata": {},
   "source": [
    "### Part 1: **About Jupyter Notebooks**"
   ]
  },
  {
   "cell_type": "markdown",
   "metadata": {},
   "source": [
    "As you can see, Jupyter Notebooks are run in a web browser – you don’t need to install anything! These notebooks provide a handy coding environment for learning and interacting with code in Python. <br><br>\n",
    "**Types of Cells** <br><br>\n",
    "Jupyter notebooks combine multiple types of elements, or \"cells\" into a single document:\n",
    "\n",
    "- Chunks of regular text are referred to as \"**markdown**\" cells. You are currently reading a markdown cell! \n",
    "- Chunks containing Python code are referred to as \"**Code**\" cells. The *output* of Python code is what results from \"running\" a chunk of code. When running a cell of code, the output will display directly underneath.\n",
    "\n",
    "<br><br>\n",
    "Most of the time you won't need to run the Markdown cells, just read through them. However, when we get to a code cell, you need to tell Jupyter to run the lines of code that it contains. \n",
    "<br><br> \n",
    "To run a code cell, hover your cursor over the cell, and select the \"play\" button that appears in the top right corner. \n",
    "<br><br>\n",
    "\n",
    "**Task**: Run the cell below! What was the output?"
   ]
  },
  {
   "cell_type": "code",
   "execution_count": null,
   "metadata": {},
   "outputs": [],
   "source": [
    "# In Python, anything with a \"#\" in front of it is code annotation and is not read by the computer \n",
    "# This print function below allows us to generate a message. \n",
    "print('Nice Work!')"
   ]
  },
  {
   "cell_type": "markdown",
   "metadata": {},
   "source": [
    "To get a quick tour of the Jupyter user-interface, click on the 'Help' menu, then click 'User Interface Tour'. There are also a large number of useful keyboard shortcuts. Click on the 'Help' menu, and then 'Keyboard Shortcuts' to see a list."
   ]
  },
  {
   "cell_type": "markdown",
   "metadata": {},
   "source": [
    "### Part 2: **Basic Python Syntax**"
   ]
  },
  {
   "cell_type": "markdown",
   "metadata": {},
   "source": [
    "Like any language, Python follows a set of rules, known as the language **syntax**. Below, we'll see how to write expressions in Python, create varaibles, and then manipulate those variables. "
   ]
  },
  {
   "cell_type": "markdown",
   "metadata": {},
   "source": [
    "**Python Expressions**\n",
    "<br><br>\n",
    "We can perform various arithmetic operations in Python: \n",
    "\n",
    "| Symbol | Operation | Usage |\n",
    "| --- | --- | --- | \n",
    "| + | Addition | 10 + 2 |\n",
    "| - | Subtraction | 10 - 2 | \n",
    "| * | Multiplcation | 10 * 2 | \n",
    "| / | Division | 10 / 2 | \n",
    "| ** | Exponent | 10 ** 2 | \n",
    "| % | Modulo | 10 % 2 |\n",
    "\n",
    "<br>\n",
    "Note that the default order of operations is the same as in mathematics! (PEMDAS)\n",
    "\n",
    "\n",
    "**Task**: Try each of the operators above. Before using the modulo operator, predict what it will output, and make sure it produces what you expect."
   ]
  },
  {
   "cell_type": "code",
   "execution_count": null,
   "metadata": {},
   "outputs": [],
   "source": [
    "# Let's play with numbers! \n",
    "\n",
    "# If you want an example, run this first\n",
    "# 10 + 2\n",
    "# After pressing the play button it should say \"12\" "
   ]
  },
  {
   "cell_type": "markdown",
   "metadata": {},
   "source": [
    "**Variables** \n",
    "<br>\n",
    "\n",
    "Variables enable us to store a value and come back to it later. THey are defined with *name = value*. Unlike mathematics, the \"=\" does not mean equality. Rather, it means taht we are assigning a variable to some value. \n",
    "\n",
    "\n",
    "**Task**: Let's practice working with variables! First, create two variables: a & b. Then, use an expression that combines a and b, and assign this to c. In the end, c should be equal to 6. \n"
   ]
  },
  {
   "cell_type": "code",
   "execution_count": null,
   "metadata": {},
   "outputs": [],
   "source": [
    "# Let's save a few integers and then manipulate them."
   ]
  },
  {
   "cell_type": "markdown",
   "metadata": {},
   "source": [
    " Note: Most code cells with not give you an output unless you ask for it (press the play button). You can use print() to output a variable or string while running the code, or return the variable as the last line of code (generally bad practice)."
   ]
  },
  {
   "cell_type": "markdown",
   "metadata": {},
   "source": [
    "**Types of Variables** \n",
    "\n",
    "Variables can be different types. Below are a few of the most common types: \n",
    "\n",
    "- Integers (int)    \n",
    "    - 0, 1, 3, 5, 10, 100, 10000\n",
    "- String (str): letters, numbers, symbols, spaces \n",
    "    - This is a String, a, '1', $\n",
    "    - ^ You can make anything into a string by either \n",
    "    ```python\n",
    "    str(variable)\n",
    "    ```\n",
    "    or wrapping them in quotation marks '' | \"\"\n",
    "    <br>\n",
    "    \n",
    "- Float (float): any number with a decimal point (floating point number) \n",
    "    - 0.0, 0.005, 1.3, 10000.0\n",
    "\n",
    "You can check what type your variable is by using \n",
    "```python\n",
    "type(variable)\n",
    "```\n",
    "Thankfully, you can wrap commands in other commands. For example, we could write print(type(a)), if we want to see the output of type(a). "
   ]
  },
  {
   "cell_type": "code",
   "execution_count": 3,
   "metadata": {},
   "outputs": [
    {
     "name": "stdout",
     "output_type": "stream",
     "text": [
      "<class 'int'>\n",
      "<class 'float'>\n",
      "<class 'str'>\n",
      "value of int 5 and float 3.5 is 8.5 and the type of variable 'a' is <class 'float'>\n"
     ]
    },
    {
     "ename": "TypeError",
     "evalue": "unsupported operand type(s) for +: 'int' and 'str'",
     "output_type": "error",
     "traceback": [
      "\u001b[1;31m---------------------------------------------------------------------------\u001b[0m",
      "\u001b[1;31mTypeError\u001b[0m                                 Traceback (most recent call last)",
      "Cell \u001b[1;32mIn[3], line 17\u001b[0m\n\u001b[0;32m     14\u001b[0m \u001b[38;5;28mprint\u001b[39m(\u001b[38;5;124mf\u001b[39m\u001b[38;5;124m\"\u001b[39m\u001b[38;5;124mvalue of int 5 and float 3.5 is \u001b[39m\u001b[38;5;132;01m{\u001b[39;00ma\u001b[38;5;132;01m}\u001b[39;00m\u001b[38;5;124m and the type of variable \u001b[39m\u001b[38;5;124m'\u001b[39m\u001b[38;5;124ma\u001b[39m\u001b[38;5;124m'\u001b[39m\u001b[38;5;124m is \u001b[39m\u001b[38;5;132;01m{\u001b[39;00m\u001b[38;5;28mtype\u001b[39m(a)\u001b[38;5;132;01m}\u001b[39;00m\u001b[38;5;124m\"\u001b[39m)\n\u001b[0;32m     16\u001b[0m \u001b[38;5;66;03m# However there are types that are NOT compatible with each other and will result in an error\u001b[39;00m\n\u001b[1;32m---> 17\u001b[0m a \u001b[38;5;241m=\u001b[39m \u001b[43mx\u001b[49m\u001b[43m \u001b[49m\u001b[38;5;241;43m+\u001b[39;49m\u001b[43m \u001b[49m\u001b[43mz\u001b[49m\n",
      "\u001b[1;31mTypeError\u001b[0m: unsupported operand type(s) for +: 'int' and 'str'"
     ]
    }
   ],
   "source": [
    "# Here are examples of the types of Variables \n",
    "\n",
    "x = 5\n",
    "print(type(x))\n",
    "\n",
    "y = 3.5\n",
    "print(type(y))\n",
    " \n",
    "z = \"10\"\n",
    "print(type(z))\n",
    "\n",
    "# Some types are compatible in operations\n",
    "a = x + y\n",
    "print(f\"value of int 5 and float 3.5 is {a} and the type of variable 'a' is {type(a)}\")\n",
    "\n",
    "# However there are types that are NOT compatible with each other and will result in an error\n",
    "a = x + z"
   ]
  },
  {
   "cell_type": "markdown",
   "metadata": {},
   "source": [
    "**<span style=\"color:red\"> Warning: </span>** In basic coding this issue can be easily avoidable, but when using library functions it is crucial to know what type a variable is before using it"
   ]
  },
  {
   "cell_type": "code",
   "execution_count": 4,
   "metadata": {},
   "outputs": [
    {
     "name": "stdout",
     "output_type": "stream",
     "text": [
      "<class 'int'>\n",
      "<class 'float'>\n"
     ]
    }
   ],
   "source": [
    "# A variable can change it's type for example \n",
    "\n",
    "a = 3\n",
    "print(type(a))\n",
    "\n",
    "a = a + 4.5 \n",
    "print(type(a))"
   ]
  },
  {
   "cell_type": "markdown",
   "metadata": {},
   "source": [
    "so make sure to watch out for any changes to the variable type as well!"
   ]
  },
  {
   "cell_type": "markdown",
   "metadata": {},
   "source": [
    "There are two different ways to **show** or **display** values in Jupyter Notebooks \n",
    "\n",
    "1. Returning a value<br>\n",
    "if the **last line** of a cell is an expression or a variable itself, Jupyter automatically displays its value / output below the cell\n",
    "\n",
    "2. Print<br>\n",
    "Since returning something might affect rest of the code, a safer alternative is by using ```print()```\n",
    "You can also use this for custom messaging and also print values in the middle of the code instead of waiting for the cell to fully finish"
   ]
  },
  {
   "cell_type": "code",
   "execution_count": null,
   "metadata": {},
   "outputs": [
    {
     "name": "stdout",
     "output_type": "stream",
     "text": [
      "<class 'int'>\n"
     ]
    },
    {
     "data": {
      "text/plain": [
       "float"
      ]
     },
     "execution_count": 2,
     "metadata": {},
     "output_type": "execute_result"
    }
   ],
   "source": [
    "# This is an example of using both print and return to see datatypes of variables \n",
    "\n",
    "x = 5 \n",
    "y = 3 \n",
    "z = x + y\n",
    "\n",
    "# I don't want to return type(z) yet, but I want to know the type of z as of now\n",
    "print(type(z))\n",
    "\n",
    "z = z + 3.5 \n",
    "\n",
    "type(z)"
   ]
  },
  {
   "cell_type": "code",
   "execution_count": null,
   "metadata": {},
   "outputs": [],
   "source": [
    "# Now as an exercise get the type of B (print) and then type of C (return)"
   ]
  },
  {
   "cell_type": "markdown",
   "metadata": {},
   "source": [
    "**Task**: Go back to the code cell where you defined variables a and b. Change the value of a so that it is no longer an integer (i.e., it is no longer a whole number). What type of variable is c now? Check your answer by re-running the code cell directly above. "
   ]
  },
  {
   "cell_type": "markdown",
   "metadata": {},
   "source": [
    "### Part 3: **Using Functions to calculate the mean and standard deviation.**"
   ]
  },
  {
   "cell_type": "markdown",
   "metadata": {},
   "source": [
    "We can use Python to calculate some basic statistics, like the mean and standard deviation of a given set of data. One way to do this is to use the arithmetic expressions that you learnt above to manually calculate the average using the formula you already learnt in class. \n",
    "\n",
    "**Task**: Run the code below to find the average of the list of numbers [1,2,3,4]."
   ]
  },
  {
   "cell_type": "code",
   "execution_count": null,
   "metadata": {},
   "outputs": [],
   "source": [
    "# Let's find the average of a list of 4 numbers \n",
    "a = (1 + 2 + 3 + 4) / 4\n",
    "a"
   ]
  },
  {
   "cell_type": "markdown",
   "metadata": {},
   "source": [
    "But imagine if we had a really long list (e.g. 200 numbers). Manually adding using the “+” expression would be annoying! In Python, we can use functions – pre-written chunks of code that perform some task, like summing together a list of numbers. All we need to do is call that function in our code!\n",
    "<br><br>\n",
    "In order to access these functions, we have to import a library. As an analogy, consider the purpose of a library in real life. Libraries are places you go to to read information discovered by other individuals already to avoid doing a lifetime of work yourself. That is how to view libraries in Python. Libraries are pre-written chunks of code–made by other great programmers–which can be pulled into our current notebook to make writing new code more efficient. It’s important to implement certain libraries if they contain functions and methods to make your job easier. If code already exists, use it. \n",
    "<br><br>\n",
    "Below, we will import a common Python library that contains a bunch of functions for doing math. The library is called \"numPy\". \n",
    "<br><br>\n",
    "Run this cell:"
   ]
  },
  {
   "cell_type": "code",
   "execution_count": null,
   "metadata": {},
   "outputs": [],
   "source": [
    "import numpy \n",
    "print('Imported numpy!')"
   ]
  },
  {
   "cell_type": "markdown",
   "metadata": {},
   "source": [
    "Now, let's recalculate the average of our list of four numbers, but using the helpful functions of numpy! Instead of manually adding the numbers, we can use the numpy function \"sum\". \n",
    "\n",
    "\n",
    "First, let's assign the list of four numbers to a variable called \"our_list\""
   ]
  },
  {
   "cell_type": "code",
   "execution_count": null,
   "metadata": {},
   "outputs": [],
   "source": [
    "# Run this cell!\"\n",
    "our_list = [1, 2, 3, 4]\n",
    "a = numpy.sum(our_list) / 4\n",
    "a"
   ]
  },
  {
   "cell_type": "markdown",
   "metadata": {},
   "source": [
    "An even more efficient way would be to directly calculate the mean, using the numpy function \"mean\""
   ]
  },
  {
   "cell_type": "code",
   "execution_count": null,
   "metadata": {},
   "outputs": [],
   "source": [
    "# Run this cell!\"\n",
    "a = numpy.mean(our_list)\n",
    "a"
   ]
  },
  {
   "cell_type": "markdown",
   "metadata": {},
   "source": [
    "Now, even if our list of numbers is a million items, we can easily and efficiently find the average! We can similarly find the standard deviation using the numpy function \"std\": "
   ]
  },
  {
   "cell_type": "code",
   "execution_count": null,
   "metadata": {},
   "outputs": [],
   "source": [
    "# Run this cell!\"\n",
    "a = numpy.std(our_list)\n",
    "a"
   ]
  },
  {
   "cell_type": "markdown",
   "metadata": {},
   "source": [
    "Note: If you ever need help using a function, you can enter the function followed by a question mark. For example, \n",
    "```python\n",
    "numpy.mean?\n",
    "```\n",
    "When you do this, Python will provide you with a helpful description of what the function does and the syntax necessary to use it!"
   ]
  },
  {
   "cell_type": "code",
   "execution_count": null,
   "metadata": {},
   "outputs": [],
   "source": [
    "# Run me to see what I output! \n",
    "numpy.mean?\n",
    "\n",
    "numpy.mean(our_list)"
   ]
  }
 ],
 "metadata": {
  "kernelspec": {
   "display_name": "Python 3",
   "language": "python",
   "name": "python3"
  },
  "language_info": {
   "codemirror_mode": {
    "name": "ipython",
    "version": 3
   },
   "file_extension": ".py",
   "mimetype": "text/x-python",
   "name": "python",
   "nbconvert_exporter": "python",
   "pygments_lexer": "ipython3",
   "version": "3.10.11"
  }
 },
 "nbformat": 4,
 "nbformat_minor": 2
}
