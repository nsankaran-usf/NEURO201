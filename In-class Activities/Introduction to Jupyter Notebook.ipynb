{
 "cells": [
  {
   "cell_type": "markdown",
   "metadata": {},
   "source": [
    "Welcome to your first Jupyter notebook! Jupyter Notebooks are a handy coding environment for learning and interacting with code in Python. In this notebook, we will explore the basics of Python, how to use it, its syntax, and its function. We will go over different data types and libraries, and how to use the built in tools in Python and these libraries in order to work with data, solve mathematical equations, and how to use Python to understand concepts of computational neuroscience."
   ]
  },
  {
   "cell_type": "markdown",
   "metadata": {},
   "source": [
    "After completing this notebook you'll be able to: \n",
    "<br> > - Recognize the main features of Jupyter Notebooks\n",
    "<br> > - Use Jupyter Notebooks to run Python3 Code\n",
    "<br> > - Identify and edit simple Markdown code\n",
    "<br> > - Be familiar with the following vocabulary\n",
    "    <br>- Variable\n",
    "    <br>- String\n",
    "    <br>- Integer\n",
    "    <br>- Float\n",
    "    <br>- List\n",
    "    <br>- Library\n",
    "    <br>- Function\n",
    "    <br>- Array"
   ]
  },
  {
   "cell_type": "markdown",
   "metadata": {},
   "source": [
    "##**About Jupyter Notebooks**"
   ]
  },
  {
   "cell_type": "markdown",
   "metadata": {},
   "source": [
    "Jupyter notebooks are a way to combine executable code, code outputs, and text into one connected file. They can run in both web browser and code editors, but don't require the internet (unless you're running it on a Jupyter Hub).\n",
    "\n",
    "The '**kernel**' is the thing that executes your code. It is what connects the notebook (as you see it) with the part of your computer, or the DataHub computers, that runs code."
   ]
  },
  {
   "cell_type": "markdown",
   "metadata": {},
   "source": [
    "**Menu Options & Shortcuts**"
   ]
  },
  {
   "cell_type": "markdown",
   "metadata": {},
   "source": [
    "To get a quick tour of the Jupyter user-interface, click on the 'Help' menu, then click 'User Interface Tour'. There are also a large number of useful keyboard shortcuts. Click on the 'Help' menu, and then 'Keyboard Shortcuts' to see a list."
   ]
  },
  {
   "cell_type": "markdown",
   "metadata": {},
   "source": [
    "**Types of Cells**"
   ]
  },
  {
   "cell_type": "markdown",
   "metadata": {},
   "source": [
    "Jupyter Notebooks have two types of cells, a **Markdown** (like this one) and **Code**. Most of the time you won't need to run the Markdown cells, just read through them. However, when we get to a code cell, you need to tell Jupyter to run the lines of code that it contains.\n",
    "\n",
    "Code cells will be read by the Python interpreter. In other words, the Python kernel will run whatever it recognizes as code within the cell.\n",
    "\n",
    "<font color='blue'>When you're in **Command mode**, cells are outlined in blue</font>. <font color='green'>When you're in **Edit mode**, blocks are outlined in green</font>."
   ]
  },
  {
   "cell_type": "markdown",
   "metadata": {},
   "source": [
    "[] **Task**: Run the cell below!"
   ]
  },
  {
   "cell_type": "code",
   "execution_count": 1,
   "metadata": {},
   "outputs": [
    {
     "name": "stdout",
     "output_type": "stream",
     "text": [
      "Nice work!\n"
     ]
    }
   ],
   "source": [
    "# In Python, anything with a \"#\" in front of it is code annotation,\n",
    "# and is not read by the computer.\n",
    "# You can run a cell (this box) by pressing shift-enter.\n",
    "# Click in this cell and then press shift and enter simultaneously.\n",
    "# This print function below allows us to generate a message.\n",
    "print('Nice work!')"
   ]
  },
  {
   "cell_type": "markdown",
   "metadata": {},
   "source": []
  }
 ],
 "metadata": {
  "kernelspec": {
   "display_name": "Python 3",
   "language": "python",
   "name": "python3"
  },
  "language_info": {
   "codemirror_mode": {
    "name": "ipython",
    "version": 3
   },
   "file_extension": ".py",
   "mimetype": "text/x-python",
   "name": "python",
   "nbconvert_exporter": "python",
   "pygments_lexer": "ipython3",
   "version": "3.10.11"
  }
 },
 "nbformat": 4,
 "nbformat_minor": 2
}
