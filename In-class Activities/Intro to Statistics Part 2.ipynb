{
 "cells": [
  {
   "cell_type": "markdown",
   "id": "115454d6",
   "metadata": {},
   "source": [
    "## Intro to Statistics: Part 2 - Measures of central tendency and variation"
   ]
  },
  {
   "cell_type": "markdown",
   "id": "64549930",
   "metadata": {},
   "source": [
    "### 📊 Measures of central tendency and variability\n",
    "\n",
    "Welcome! In this notebook, we'll continue exploring how to statistically analyze data. This time, we'll explore: \n",
    "1. **Measures of Central Tendency** (Mean & Median)\n",
    "2. **Measures of Variability** (Range, Variance & Standard Deviation) \n",
    "\n",
    "<br>\n",
    "We'll use the same dataset we used in the last lecture, showing 1,000 people's height and weight (we'll only look at the column corresponding to height this time).\n",
    "<br><br>\n",
    "Let's being by loading and visualizing our data!"
   ]
  },
  {
   "cell_type": "code",
   "execution_count": 1,
   "id": "ae675c42",
   "metadata": {},
   "outputs": [],
   "source": [
    "# 📦 Import libraries\n",
    "import pandas as pd\n",
    "import numpy as np\n",
    "import matplotlib.pyplot as plt\n",
    "\n",
    "# Enable plots in the notebook\n",
    "%matplotlib inline\n"
   ]
  },
  {
   "cell_type": "markdown",
   "id": "f234d2d7",
   "metadata": {},
   "source": [
    "#### 📂 Load the Height Dataset\n",
    "\n",
    "Make sure `height_data.csv` is in your working directory. This dataset contians a single column of height values (in inches)."
   ]
  },
  {
   "cell_type": "code",
   "execution_count": 2,
   "id": "9c2637c4",
   "metadata": {},
   "outputs": [
    {
     "name": "stdout",
     "output_type": "stream",
     "text": [
      "Dataset shape:  (1000, 1)\n"
     ]
    },
    {
     "data": {
      "text/html": [
       "<div>\n",
       "<style scoped>\n",
       "    .dataframe tbody tr th:only-of-type {\n",
       "        vertical-align: middle;\n",
       "    }\n",
       "\n",
       "    .dataframe tbody tr th {\n",
       "        vertical-align: top;\n",
       "    }\n",
       "\n",
       "    .dataframe thead th {\n",
       "        text-align: right;\n",
       "    }\n",
       "</style>\n",
       "<table border=\"1\" class=\"dataframe\">\n",
       "  <thead>\n",
       "    <tr style=\"text-align: right;\">\n",
       "      <th></th>\n",
       "      <th>Height</th>\n",
       "    </tr>\n",
       "  </thead>\n",
       "  <tbody>\n",
       "    <tr>\n",
       "      <th>0</th>\n",
       "      <td>170.982061</td>\n",
       "    </tr>\n",
       "    <tr>\n",
       "      <th>1</th>\n",
       "      <td>169.358918</td>\n",
       "    </tr>\n",
       "    <tr>\n",
       "      <th>2</th>\n",
       "      <td>179.517908</td>\n",
       "    </tr>\n",
       "    <tr>\n",
       "      <th>3</th>\n",
       "      <td>185.328311</td>\n",
       "    </tr>\n",
       "    <tr>\n",
       "      <th>4</th>\n",
       "      <td>176.868469</td>\n",
       "    </tr>\n",
       "  </tbody>\n",
       "</table>\n",
       "</div>"
      ],
      "text/plain": [
       "       Height\n",
       "0  170.982061\n",
       "1  169.358918\n",
       "2  179.517908\n",
       "3  185.328311\n",
       "4  176.868469"
      ]
     },
     "execution_count": 2,
     "metadata": {},
     "output_type": "execute_result"
    }
   ],
   "source": [
    "# Load the height dataset\n",
    "height_df = pd.read_csv(\"height_data.csv\")\n",
    "\n",
    "# Display basic info\n",
    "print(\"Dataset shape: \", height_df.shape)\n",
    "height_df.head()"
   ]
  },
  {
   "cell_type": "markdown",
   "id": "c9b34e34",
   "metadata": {},
   "source": [
    "#### 📈 Plot Histogram of Heights\n",
    "\n",
    "Let's visualize the distribution of height using a histogram with 100 evenly spaced bins."
   ]
  },
  {
   "cell_type": "code",
   "execution_count": 3,
   "id": "f818f4f0",
   "metadata": {},
   "outputs": [
    {
     "data": {
      "image/png": "[encoded data removed]",
      "text/plain": [
       "<Figure size 1000x500 with 1 Axes>"
      ]
     },
     "metadata": {},
     "output_type": "display_data"
    }
   ],
   "source": [
    "# Plot histogram\n",
    "plt.figure(figsize=(10, 5))\n",
    "plt.hist(height_df['Height'], bins=100, edgecolor='black')\n",
    "plt.title(\"Distribution of Height (100 Bins)\")\n",
    "plt.xlabel(\"Height (cm)\")\n",
    "plt.ylabel(\"Frequency\")\n",
    "plt.grid(True)\n",
    "plt.show()"
   ]
  },
  {
   "cell_type": "markdown",
   "id": "7928f5ac",
   "metadata": {},
   "source": [
    "### 📌 Section 1: Measures of Central Tendency\n",
    "\n",
    "We will now calculate the **mean** and **median** of this distribution of height values using built-in functions that are part of the libraries we imported earlier.\n",
    "<br><br>\n",
    "After calculating the mean and median, let's overlay these values on top of the histogram so we can get a sense of how the mean and median relate to the overall distribution of heights."
   ]
  },
  {
   "cell_type": "code",
   "execution_count": null,
   "id": "64a1b44d",
   "metadata": {},
   "outputs": [],
   "source": [
    "# Calculate the mean and median\n",
    "\n",
    "mean_height = \n",
    "median_height = "
   ]
  },
  {
   "cell_type": "code",
   "execution_count": null,
   "id": "b13e4454",
   "metadata": {},
   "outputs": [],
   "source": [
    "# Plot histogram with mean and median as green and red dashed lines\n",
    "plt.figure(figsize=(10, 5))\n",
    "plt.hist(height_df['Height'], bins=100, edgecolor='black', alpha=0.7)\n",
    "plt.axvline(mean_height, color='red', linestyle='dashed', linewidth=2)\n",
    "plt.axvline(median_height, color='green', linestyle='dashed', linewidth=2)\n",
    "plt.title(\"Height Distribution with Mean and Median\")\n",
    "plt.xlabel(\"Height (cm)\")\n",
    "plt.ylabel(\"Frequency\")\n",
    "plt.legend()\n",
    "plt.grid(True)\n",
    "plt.show()"
   ]
  },
  {
   "cell_type": "markdown",
   "id": "8629e01d",
   "metadata": {},
   "source": [
    "**Questions❓**\n",
    "- Notice that the mean and median are very close in value to one another. Why do you think that is?"
   ]
  },
  {
   "cell_type": "markdown",
   "id": "b4541a2c",
   "metadata": {},
   "source": [
    "#### 🧠 Mean vs. Median of a Skewed Distribution\n",
    "\n",
    "Height is a normally distributed variable (assuming that our sample is large enough to reliably approximate the population) .\n",
    "<br><br>\n",
    "Let's explore how mean vs. median differ when our data is not normally distributed, but is instead skewed. In particular, let's look at the distribution of adult incomes, which is typically right-skewed (why do you think this is?). \n",
    "<br><br>\n",
    "\n",
    "We'll now load an income dataset (`income_data.csv`) and plot this distribution. We'll also find the mean and median income and overlay these values on top of the histogram."
   ]
  },
  {
   "cell_type": "code",
   "execution_count": 4,
   "id": "73b023ca",
   "metadata": {},
   "outputs": [
    {
     "data": {
      "text/html": [
       "<div>\n",
       "<style scoped>\n",
       "    .dataframe tbody tr th:only-of-type {\n",
       "        vertical-align: middle;\n",
       "    }\n",
       "\n",
       "    .dataframe tbody tr th {\n",
       "        vertical-align: top;\n",
       "    }\n",
       "\n",
       "    .dataframe thead th {\n",
       "        text-align: right;\n",
       "    }\n",
       "</style>\n",
       "<table border=\"1\" class=\"dataframe\">\n",
       "  <thead>\n",
       "    <tr style=\"text-align: right;\">\n",
       "      <th></th>\n",
       "      <th>Income</th>\n",
       "    </tr>\n",
       "  </thead>\n",
       "  <tbody>\n",
       "    <tr>\n",
       "      <th>0</th>\n",
       "      <td>37434.189703</td>\n",
       "    </tr>\n",
       "    <tr>\n",
       "      <th>1</th>\n",
       "      <td>5206.970569</td>\n",
       "    </tr>\n",
       "    <tr>\n",
       "      <th>2</th>\n",
       "      <td>20663.138755</td>\n",
       "    </tr>\n",
       "    <tr>\n",
       "      <th>3</th>\n",
       "      <td>160330.547914</td>\n",
       "    </tr>\n",
       "    <tr>\n",
       "      <th>4</th>\n",
       "      <td>99947.723733</td>\n",
       "    </tr>\n",
       "  </tbody>\n",
       "</table>\n",
       "</div>"
      ],
      "text/plain": [
       "          Income\n",
       "0   37434.189703\n",
       "1    5206.970569\n",
       "2   20663.138755\n",
       "3  160330.547914\n",
       "4   99947.723733"
      ]
     },
     "execution_count": 4,
     "metadata": {},
     "output_type": "execute_result"
    }
   ],
   "source": [
    "# Load right-skewed income dataset\n",
    "income_df = pd.read_csv('income_data.csv')\n",
    "\n",
    "# Quick preview\n",
    "income_df.head()"
   ]
  },
  {
   "cell_type": "code",
   "execution_count": null,
   "id": "77317d4b",
   "metadata": {},
   "outputs": [
    {
     "data": {
      "image/png": "[encoded data removed]",
      "text/plain": [
       "<Figure size 1000x500 with 1 Axes>"
      ]
     },
     "metadata": {},
     "output_type": "display_data"
    }
   ],
   "source": [
    "# Plot income histogram\n",
    "plt.figure(figsize=(10, 5))\n",
    "plt.hist(income_df['Income'], bins=100, edgecolor='black', color='orange')\n",
    "plt.title(\"Distribution of Income (Right-Skewed)\")\n",
    "plt.xlabel(\"Income ($)\")\n",
    "plt.ylabel(\"Frequency\")\n",
    "\n",
    "\n",
    "# Calculate mean and median of income\n",
    "mean_income = \n",
    "median_income = \n",
    "\n",
    "# plot mean and median lines on top of histogram\n",
    "plt.axvline(mean_income, color='red', linestyle='dashed', linewidth=2)\n",
    "plt.axvline(median_income, color='green', linestyle='dashed', linewidth=2)\n",
    "\n",
    "\n",
    "plt.grid(True)\n",
    "plt.show()"
   ]
  },
  {
   "cell_type": "markdown",
   "id": "583ee9ac",
   "metadata": {},
   "source": [
    "**Questions❓**\n",
    "- Note how the mean and median now differ from one another. Which do you think provides a better summary statistic of the distribution? Why?"
   ]
  },
  {
   "cell_type": "markdown",
   "id": "650d4507",
   "metadata": {},
   "source": [
    "### 📌 Section 2: Measures of Variability\n",
    "\n",
    "In addition to a summary statistic that tells us the \"central tendency\" of our distribution, it is useful to calculate statistics that tell us how \"spread out\" our data is. \n",
    "<br><br>\n",
    "Let's return to our height dataset and calculate 3 different measures of variability \n",
    "\n",
    "- **Range**\n",
    "- **Variance**\n",
    "- **Standard Deviation** "
   ]
  },
  {
   "cell_type": "markdown",
   "id": "622cd215",
   "metadata": {},
   "source": [
    "The full **range** is simply the difference between the largest and smallest value in our sample. The cell below calculates the range."
   ]
  },
  {
   "cell_type": "code",
   "execution_count": 8,
   "id": "9d01899c",
   "metadata": {},
   "outputs": [
    {
     "name": "stdout",
     "output_type": "stream",
     "text": [
      "Range: 64.16 cm\n",
      "Variance: 96.58 cm\n",
      "Standard Deviation: 9.83 cm\n"
     ]
    }
   ],
   "source": [
    "# Calculate range\n",
    "range_height = height_df['Height'].max() - height_df['Height'].min()\n",
    "\n",
    "# Calculate variance and standard deviation\n",
    "variance_height = height_df['Height'].var()\n",
    "std_dev_height = height_df['Height'].std()\n",
    "\n",
    "print(f\"Range: {range_height:.2f} cm\")\n",
    "print(f\"Variance: {variance_height:.2f} cm\")\n",
    "print(f\"Standard Deviation: {std_dev_height:.2f} cm\") "
   ]
  },
  {
   "cell_type": "markdown",
   "id": "b07ee076",
   "metadata": {},
   "source": [
    "A more useful and often used statistic is the **interquartile range**, which is the difference in value between the 75th and 25th percentile."
   ]
  },
  {
   "cell_type": "code",
   "execution_count": 9,
   "id": "e029d69e",
   "metadata": {},
   "outputs": [
    {
     "name": "stdout",
     "output_type": "stream",
     "text": [
      "25th percentile: 163.40185860045986\n",
      "75th percentile: 176.31167289384408\n",
      "Interquartile Range (IQR): 12.909814293384215\n"
     ]
    }
   ],
   "source": [
    "# Calculate the first and third quartiles\n",
    "q1 = height_df['Height'].quantile(0.25)\n",
    "q3 = height_df['Height'].quantile(0.75)\n",
    "\n",
    "# Compute the Interquartile Range (IQR) \n",
    "iqr = q3 - q1 \n",
    "\n",
    "print(f\"25th percentile: {q1}\")\n",
    "print(f\"75th percentile: {q3}\")\n",
    "print(f\"Interquartile Range (IQR): {iqr}\")"
   ]
  },
  {
   "cell_type": "markdown",
   "id": "63c7286a",
   "metadata": {},
   "source": [
    "Let's look at the **variance**\n",
    "<br><br>\n",
    "\n",
    "Recall that the variance is related to the difference between value and the mean: \n",
    "<br><br>\n",
    "\n",
    "**σ² = Σ (X - μ)² / N**\n",
    "\n",
    "<br>\n",
    "It would be complicated to manually calculate this in code, but thankfully python libraries have functions taht allow us to calculate the variance easily."
   ]
  },
  {
   "cell_type": "code",
   "execution_count": 10,
   "id": "87cb0022",
   "metadata": {},
   "outputs": [
    {
     "name": "stdout",
     "output_type": "stream",
     "text": [
      "Variance: 96.58\n"
     ]
    }
   ],
   "source": [
    "# Calculate variance\n",
    "variance_height = height_df['Height'].var()\n",
    "print(f\"Variance: {variance_height:.2f}\")"
   ]
  },
  {
   "cell_type": "markdown",
   "id": "b8c89142",
   "metadata": {},
   "source": [
    "Finally, let's look at the **standard deviation** \n",
    "<br><br>\n",
    "The standard deviation is simply the square root of the variance. We can do this using the numpy function 'sqrt'."
   ]
  },
  {
   "cell_type": "code",
   "execution_count": 11,
   "id": "8a18a9d1",
   "metadata": {},
   "outputs": [
    {
     "name": "stdout",
     "output_type": "stream",
     "text": [
      "Standard Deviation: 9.82764785897764\n"
     ]
    }
   ],
   "source": [
    "# Calculate the standard deviation\n",
    "std_dev = np.sqrt(variance_height) \n",
    "print(f\"Standard Deviation: {std_dev}\")"
   ]
  },
  {
   "cell_type": "markdown",
   "id": "05b44172",
   "metadata": {},
   "source": [
    "## ✅ Summary\n",
    "\n",
    "In this notebook, you: \n",
    "- Plotted histograms to visualize data distributions\n",
    "- Calculated measures of central tendency (mean & median)\n",
    "- Observed how skew affects mean vs. median\n",
    "- Calculated measures of variability (range, variance, and standard deviation) \n",
    "\n",
    "<br>\n",
    "These concepts form the foundation of statistical analysis and will help you interpret real-world data more effectively.\n",
    "<br><br>\n",
    "🎉 Great work!"
   ]
  }
 ],
 "metadata": {
  "kernelspec": {
   "display_name": "Python 3",
   "language": "python",
   "name": "python3"
  },
  "language_info": {
   "codemirror_mode": {
    "name": "ipython",
    "version": 3
   },
   "file_extension": ".py",
   "mimetype": "text/x-python",
   "name": "python",
   "nbconvert_exporter": "python",
   "pygments_lexer": "ipython3",
   "version": "3.11.0"
  }
 },
 "nbformat": 4,
 "nbformat_minor": 5
}
